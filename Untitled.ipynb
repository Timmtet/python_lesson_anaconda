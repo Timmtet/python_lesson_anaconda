{
 "cells": [
  {
   "cell_type": "code",
   "execution_count": null,
   "id": "c3b02ec1",
   "metadata": {},
   "outputs": [],
   "source": [
    "conda install nb_conda\n"
   ]
  },
  {
   "cell_type": "code",
   "execution_count": null,
   "id": "129112ef",
   "metadata": {},
   "outputs": [],
   "source": [
    "conda install nb_conda"
   ]
  },
  {
   "cell_type": "code",
   "execution_count": null,
   "id": "91ca0be2",
   "metadata": {},
   "outputs": [],
   "source": []
  }
 ],
 "metadata": {
  "kernelspec": {
   "display_name": "Python 3 (ipykernel)",
   "language": "python",
   "name": "python3"
  },
  "language_info": {
   "codemirror_mode": {
    "name": "ipython",
    "version": 3
   },
   "file_extension": ".py",
   "mimetype": "text/x-python",
   "name": "python",
   "nbconvert_exporter": "python",
   "pygments_lexer": "ipython3",
   "version": "3.9.7"
  }
 },
 "nbformat": 4,
 "nbformat_minor": 5
}
